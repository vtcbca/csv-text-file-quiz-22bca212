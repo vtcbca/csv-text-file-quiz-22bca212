{
 "cells": [
  {
   "cell_type": "code",
   "execution_count": 1,
   "id": "a0f953e6",
   "metadata": {},
   "outputs": [],
   "source": [
    "import csv"
   ]
  },
  {
   "cell_type": "code",
   "execution_count": 14,
   "id": "3c7e43f4",
   "metadata": {},
   "outputs": [],
   "source": [
    "w=open('contact.csv','w',newline='')"
   ]
  },
  {
   "cell_type": "code",
   "execution_count": 15,
   "id": "2de3f5cc",
   "metadata": {},
   "outputs": [],
   "source": [
    "a=csv.writer(w)"
   ]
  },
  {
   "cell_type": "code",
   "execution_count": 16,
   "id": "18a74f4a",
   "metadata": {},
   "outputs": [],
   "source": [
    "a=csv.writer(w)"
   ]
  },
  {
   "cell_type": "code",
   "execution_count": 17,
   "id": "837ab2c5",
   "metadata": {},
   "outputs": [],
   "source": [
    "header=[\"name\",\"contact\"]"
   ]
  },
  {
   "cell_type": "code",
   "execution_count": 18,
   "id": "74b1a792",
   "metadata": {},
   "outputs": [
    {
     "data": {
      "text/plain": [
       "14"
      ]
     },
     "execution_count": 18,
     "metadata": {},
     "output_type": "execute_result"
    }
   ],
   "source": [
    "a.writerow(header)"
   ]
  },
  {
   "cell_type": "code",
   "execution_count": 19,
   "id": "2a0fa579",
   "metadata": {},
   "outputs": [],
   "source": [
    "data=[['parth',9658743210],\n",
    "     ['dhrumin',9965848753],\n",
    "     ['dev',7636895765]]\n",
    "   "
   ]
  },
  {
   "cell_type": "code",
   "execution_count": 20,
   "id": "1f8c0925",
   "metadata": {},
   "outputs": [
    {
     "data": {
      "text/plain": [
       "73"
      ]
     },
     "execution_count": 20,
     "metadata": {},
     "output_type": "execute_result"
    }
   ],
   "source": [
    "a.writerow(data)"
   ]
  },
  {
   "cell_type": "code",
   "execution_count": 21,
   "id": "5252c4a3",
   "metadata": {},
   "outputs": [],
   "source": [
    "w.close()"
   ]
  },
  {
   "cell_type": "code",
   "execution_count": 22,
   "id": "2b0397e0",
   "metadata": {},
   "outputs": [],
   "source": [
    "f=open('contact.csv','r',newline='')"
   ]
  },
  {
   "cell_type": "code",
   "execution_count": 23,
   "id": "bc705088",
   "metadata": {},
   "outputs": [],
   "source": [
    "read=csv.reader(f)\n"
   ]
  },
  {
   "cell_type": "code",
   "execution_count": 25,
   "id": "e912e0f5",
   "metadata": {},
   "outputs": [
    {
     "name": "stdout",
     "output_type": "stream",
     "text": [
      "Enter a person name :om\n"
     ]
    }
   ],
   "source": [
    "name = input(\"Enter a person name :\")\n",
    "for r in read:\n",
    "    if r[0]==name:\n",
    "        print(\"\\nName:{}\".format(r[0]))\n",
    "        print(\"contact:{}\".format(r[1]))"
   ]
  },
  {
   "cell_type": "code",
   "execution_count": null,
   "id": "d9cac71c",
   "metadata": {},
   "outputs": [],
   "source": []
  }
 ],
 "metadata": {
  "kernelspec": {
   "display_name": "Python 3 (ipykernel)",
   "language": "python",
   "name": "python3"
  },
  "language_info": {
   "codemirror_mode": {
    "name": "ipython",
    "version": 3
   },
   "file_extension": ".py",
   "mimetype": "text/x-python",
   "name": "python",
   "nbconvert_exporter": "python",
   "pygments_lexer": "ipython3",
   "version": "3.11.4"
  }
 },
 "nbformat": 4,
 "nbformat_minor": 5
}
